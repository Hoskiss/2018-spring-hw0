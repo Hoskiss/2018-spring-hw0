{
 "cells": [
  {
   "cell_type": "code",
   "execution_count": null,
   "metadata": {},
   "outputs": [],
   "source": [
    "import os\n",
    "import re\n",
    "import nltk\n",
    "import random\n",
    "import pickle\n",
    "import numpy as np\n",
    "import pandas as pd\n",
    "from tqdm import tqdm \n",
    "import matplotlib.pyplot as plt\n",
    "from nltk.corpus import stopwords\n",
    "from gensim.models import word2vec\n",
    "from sklearn.model_selection import train_test_split\n",
    "from sklearn.feature_extraction.text import TfidfVectorizer\n",
    "\n",
    "nltk.download('stopwords')\n",
    "\n",
    "os.environ[\"CUDA_VISIBLE_DEVICES\"] = \"2\"\n",
    "# from nltk.tokenize import TweetTokenizer # a tweet tokenizer from nltk.\n",
    "# tokenizer = TweetTokenizer()\n"
   ]
  },
  {
   "cell_type": "code",
   "execution_count": null,
   "metadata": {},
   "outputs": [],
   "source": [
    "VECTOR_SIZE = 300\n",
    "\n",
    "stopword_list = stopwords.words(\"english\")\n",
    "print(stopword_list)\n"
   ]
  },
  {
   "cell_type": "code",
   "execution_count": null,
   "metadata": {},
   "outputs": [],
   "source": [
    "def get_cutted_sentences(raw_lines):\n",
    "    sentences = []\n",
    "    for line in raw_lines:\n",
    "        line = line.strip()\n",
    "        line = line.replace(\" ' \", \"'\")\n",
    "        line = re.sub(\"[^a-zA-Z']\", \" \", line)\n",
    "\n",
    "        words = line.lower().split()\n",
    "        words = [word for word in words if word not in stopword_list and len(word)>1]\n",
    "        sentences.append(words)\n",
    "        \n",
    "    print(len(sentences))\n",
    "    return sentences\n",
    "    "
   ]
  },
  {
   "cell_type": "code",
   "execution_count": null,
   "metadata": {},
   "outputs": [],
   "source": [
    "no_labeled_path = os.path.join(os.getcwd(), \"data\", \"training_nolabel.csv\")\n",
    "total_sentences = None\n",
    "\n",
    "with open(no_labeled_path, 'r') as no_labeled_file:\n",
    "    total_sentences = get_cutted_sentences(no_labeled_file.readlines())\n"
   ]
  },
  {
   "cell_type": "code",
   "execution_count": null,
   "metadata": {},
   "outputs": [],
   "source": [
    "# # build word2vec\n",
    "# # sg=0 CBOW ; sg=1 skip-gram\n",
    "# model = word2vec.Word2Vec(size=VECTOR_SIZE, min_count=30, window=7, sg=1)\n",
    "# model.build_vocab(sentences)\n"
   ]
  },
  {
   "cell_type": "code",
   "execution_count": null,
   "metadata": {},
   "outputs": [],
   "source": [
    "# # train word2vec model ; shuffle data every epoch\n",
    "# WORD2VEC_TRAINING_TIMES = 20\n",
    "# for _ in range(WORD2VEC_TRAINING_TIMES):\n",
    "#     random.shuffle(sentences)\n",
    "#     model.train(sentences, total_examples=len(sentences), epochs=1)\n",
    "    "
   ]
  },
  {
   "cell_type": "code",
   "execution_count": null,
   "metadata": {},
   "outputs": [],
   "source": [
    "# saved_folder = os.path.join(os.getcwd(), \"saved_model\")\n",
    "# if not os.path.exists(saved_folder):\n",
    "#     os.makedirs(saved_folder)\n",
    "\n",
    "# model.save(os.path.join(os.getcwd(), \"saved_model\", 'dimension_300_window_7_skip_gram'))\n"
   ]
  },
  {
   "cell_type": "code",
   "execution_count": null,
   "metadata": {},
   "outputs": [],
   "source": [
    "word2vec_model_path = os.path.join(os.getcwd(), \"saved_model\", 'dimension_300_window_7_skip_gram')\n",
    "word2vec_model = word2vec.Word2Vec.load(word2vec_model_path)\n",
    "\n",
    "print(word2vec_model['bye'])\n",
    "print(word2vec_model.most_similar('fever'))"
   ]
  },
  {
   "cell_type": "code",
   "execution_count": null,
   "metadata": {},
   "outputs": [],
   "source": []
  },
  {
   "cell_type": "code",
   "execution_count": null,
   "metadata": {},
   "outputs": [],
   "source": [
    "labeled_path = os.path.join(os.getcwd(), \"data\", \"training_label.csv\")\n",
    "labeled_data = []\n",
    "\n",
    "with open(labeled_path, 'r') as labeled_file:\n",
    "    for line in labeled_file.readlines():\n",
    "        (label, text) = line.split(\"+++$+++\")\n",
    "        labeled_data.append([label.strip(), text.strip()])\n",
    "\n",
    "labeled_dataframe = pd.DataFrame(labeled_data, columns =['Label', 'Text']) \n",
    "labeled_dataframe.head()\n"
   ]
  },
  {
   "cell_type": "code",
   "execution_count": null,
   "metadata": {},
   "outputs": [],
   "source": [
    "testing_path = os.path.join(os.getcwd(), \"data\", \"testing_data.csv\")\n",
    "testing_data = []\n",
    "\n",
    "with open(testing_path, 'r') as testing_file:\n",
    "    for line in testing_file.readlines()[1:]:\n",
    "        line_split = line.split(\",\")\n",
    "        testing_id = line_split[0]\n",
    "        text = \",\".join(line_split[1:])\n",
    "        testing_data.append([testing_id.strip(), text.strip()])\n",
    "\n",
    "testing_dataframe = pd.DataFrame(testing_data, columns =['Id', 'Text']) \n",
    "testing_dataframe.head()\n"
   ]
  },
  {
   "cell_type": "code",
   "execution_count": null,
   "metadata": {},
   "outputs": [],
   "source": [
    "training_frame, validation_frame = train_test_split(labeled_dataframe, test_size=0.1, random_state=42)\n",
    "print(training_frame['Label'].value_counts())\n",
    "print(validation_frame['Label'].value_counts())\n"
   ]
  },
  {
   "cell_type": "code",
   "execution_count": null,
   "metadata": {},
   "outputs": [],
   "source": [
    "training_x = training_frame['Text'].tolist()\n",
    "training_x = get_cutted_sentences(training_x)\n",
    "print(len(training_x))\n",
    "print(training_x[:20])\n",
    "\n",
    "validation_x = validation_frame['Text'].tolist()\n",
    "validation_x = get_cutted_sentences(validation_x)\n",
    "\n",
    "testing_x = testing_dataframe['Text'].tolist()\n",
    "testing_x = get_cutted_sentences(testing_x)\n"
   ]
  },
  {
   "cell_type": "code",
   "execution_count": null,
   "metadata": {},
   "outputs": [],
   "source": [
    "max_length = max(len(x) for x in training_x)\n",
    "print(max_length)\n",
    "\n",
    "max_length = max(len(x) for x in validation_x)\n",
    "print(max_length)\n",
    "\n",
    "max_length = max(len(x) for x in testing_x)\n",
    "print(max_length)\n"
   ]
  },
  {
   "cell_type": "code",
   "execution_count": null,
   "metadata": {},
   "outputs": [],
   "source": [
    "training_y = training_frame['Label'].as_matrix()\n",
    "print(training_y.shape)\n",
    "print(training_y[:20])\n",
    "\n",
    "validation_y = validation_frame['Label'].as_matrix()\n"
   ]
  },
  {
   "cell_type": "code",
   "execution_count": null,
   "metadata": {},
   "outputs": [],
   "source": [
    "# word2vec_model.wv.vocab.keys(), 所有可以轉成vector的字, length: 14386"
   ]
  },
  {
   "cell_type": "code",
   "execution_count": null,
   "metadata": {},
   "outputs": [],
   "source": [
    "# vectorizer = TfidfVectorizer(analyzer=lambda x: x, min_df=10)\n",
    "# vectorizer = TfidfVectorizer(analyzer='word', min_df=10)\n",
    "# matrix = vectorizer.fit_transform([word for sentence in total_sentences for word in sentence])\n",
    "# tfidf_map = dict(zip(vectorizer.get_feature_names(), vectorizer.idf_))\n",
    "# print ('vocab size :', len(tfidf_map))\n",
    "\n",
    "#Save the tfidf \n",
    "tfidf_map_name = \"tfidf_map.pickle\"\n",
    "# with open(tfidf_map_name, \"wb\") as pickle_file:\n",
    "#     pickle.dump(tfidf_map, pickle_file)\n",
    "with open(tfidf_map_name, \"rb\") as pickle_file:\n",
    "    tfidf_map = pickle.load(pickle_file)\n"
   ]
  },
  {
   "cell_type": "code",
   "execution_count": null,
   "metadata": {},
   "outputs": [],
   "source": [
    "def get_document_vector(tokens, vector_size=300, token_size=30):\n",
    "    vector = np.zeros((token_size, vector_size))\n",
    "    index = 0\n",
    "    for word in tokens:\n",
    "        try:\n",
    "            # vector[index] = (word2vec_model[word].reshape((1, vector_size))) * tfidf_map[word] # combining w2v vectors with tfidf value of words in the tweet.\n",
    "            vector[index] = (word2vec_model[word].reshape((1, vector_size))) \n",
    "            index += 1\n",
    "        except KeyError: # handling the case where the token is not\n",
    "#             print(word)\n",
    "#             print(word2vec_model[word])\n",
    "#             print(tfidf_map[word])\n",
    "            \n",
    "            continue\n",
    "    return vector\n"
   ]
  },
  {
   "cell_type": "code",
   "execution_count": null,
   "metadata": {},
   "outputs": [],
   "source": [
    "training_vector_x = np.array([get_document_vector(documnet) for documnet in training_x])\n",
    "print(training_vector_x.shape)\n",
    "print(training_vector_x[0])\n",
    "\n",
    "validation_vector_x = np.array([get_document_vector(documnet) for documnet in validation_x])\n",
    "print(validation_vector_x.shape)\n",
    "\n",
    "testing_vector_x = np.array([get_document_vector(documnet) for documnet in testing_x])\n",
    "print(testing_vector_x.shape)\n"
   ]
  },
  {
   "cell_type": "code",
   "execution_count": null,
   "metadata": {},
   "outputs": [],
   "source": [
    "from keras.models import Sequential\n",
    "from keras.layers import Dense, Dropout, Flatten, LSTM\n",
    "from keras.constraints import maxnorm\n",
    "from keras.optimizers import SGD\n",
    "from keras.layers.convolutional import Conv2D, MaxPooling2D\n",
    "from keras.utils import np_utils\n",
    "from keras.callbacks import EarlyStopping, ModelCheckpoint\n"
   ]
  },
  {
   "cell_type": "code",
   "execution_count": null,
   "metadata": {},
   "outputs": [],
   "source": [
    "model = Sequential()\n",
    "model.add(LSTM(256, return_sequences=True, input_shape=(training_vector_x.shape[1], training_vector_x.shape[2]),\n",
    "               dropout=0.1, recurrent_dropout=0.1))\n",
    "model.add(Dropout(0.2))\n",
    "model.add(LSTM(128, return_sequences=True))\n",
    "model.add(Dropout(0.2))\n",
    "model.add(LSTM(64, return_sequences=False))\n",
    "model.add(Dropout(0.2))\n",
    "# model.add(LSTM(48, return_sequences=True))\n",
    "# model.add(Dropout(0.2))\n",
    "# model.add(LSTM(16, return_sequences=False))\n",
    "# model.add(Dropout(0.2))\n",
    "\n",
    "# Fully connected layer\n",
    "model.add(Dense(64, activation='relu'))\n",
    "# Dropout for regularization\n",
    "model.add(Dropout(0.2))\n",
    "model.add(Dense(1, activation='sigmoid'))\n",
    "model.compile(optimizer='adam',\n",
    "              loss='binary_crossentropy',\n",
    "              metrics=['accuracy'])\n",
    "\n",
    "print(model.summary())\n",
    "\n",
    "model_name = \"multiple_lstm_without_tfidf_classifier.h5\"\n",
    "model_path = os.path.join(os.getcwd(), model_name)\n",
    "checkpoint = ModelCheckpoint(model_path, monitor='val_acc', save_best_only=True, verbose=1)\n",
    "earlystop = EarlyStopping(monitor='val_acc', patience=20, verbose=1)\n",
    "\n",
    "model_history = model.fit(training_vector_x, training_y, validation_data=(validation_vector_x, validation_y), \n",
    "                          epochs=200, batch_size=50,\n",
    "                          callbacks = [checkpoint, earlystop])\n"
   ]
  },
  {
   "cell_type": "code",
   "execution_count": null,
   "metadata": {},
   "outputs": [],
   "source": [
    "training_acc = model_history.history['acc']\n",
    "val_acc = model_history.history['val_acc']\n",
    "\n",
    "plt.plot(training_acc, label=\"training_accuracy\")\n",
    "plt.plot(val_acc, label=\"validation_accuracy\")\n",
    "plt.xlabel(\"Epochs\")\n",
    "plt.ylabel(\"Binary Accuracy\")\n",
    "plt.title(\"Accuracy Curve\")\n",
    "plt.legend(loc='best')\n",
    "plt.show()"
   ]
  },
  {
   "cell_type": "code",
   "execution_count": null,
   "metadata": {},
   "outputs": [],
   "source": []
  },
  {
   "cell_type": "code",
   "execution_count": null,
   "metadata": {},
   "outputs": [],
   "source": [
    "# from keras.models import load_model\n",
    "\n",
    "# model_path = os.path.join(os.getcwd(), model_name)\n",
    "# model  = load_model(model_path)\n"
   ]
  },
  {
   "cell_type": "code",
   "execution_count": null,
   "metadata": {},
   "outputs": [],
   "source": [
    "result = model.predict(testing_vector_x)\n",
    "print(result.shape)\n",
    "print(result)\n",
    "result = (result>0.5).astype(int)\n",
    "result = result.reshape(-1)\n",
    "print(result.shape)\n",
    "print(result)\n"
   ]
  },
  {
   "cell_type": "code",
   "execution_count": null,
   "metadata": {},
   "outputs": [],
   "source": [
    "result_frame = pd.DataFrame({\n",
    "    'id': testing_dataframe['Id'].tolist(),\n",
    "    'label': result })\n",
    "print(result_frame.head())\n",
    "output_path = os.path.join(os.getcwd(), \"result\", \"multiple_lstm_without_tfidf.csv\")\n",
    "result_frame.to_csv(output_path)\n"
   ]
  },
  {
   "cell_type": "code",
   "execution_count": null,
   "metadata": {},
   "outputs": [],
   "source": []
  }
 ],
 "metadata": {
  "kernelspec": {
   "display_name": "Python 3",
   "language": "python",
   "name": "python3"
  },
  "language_info": {
   "codemirror_mode": {
    "name": "ipython",
    "version": 3
   },
   "file_extension": ".py",
   "mimetype": "text/x-python",
   "name": "python",
   "nbconvert_exporter": "python",
   "pygments_lexer": "ipython3",
   "version": "3.6.8"
  }
 },
 "nbformat": 4,
 "nbformat_minor": 2
}
