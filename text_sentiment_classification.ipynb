{
 "cells": [
  {
   "cell_type": "code",
   "execution_count": 1,
   "metadata": {},
   "outputs": [],
   "source": [
    "import os\n",
    "import pandas as pd\n",
    "from sklearn.model_selection import train_test_split\n"
   ]
  },
  {
   "cell_type": "code",
   "execution_count": 2,
   "metadata": {},
   "outputs": [
    {
     "data": {
      "text/html": [
       "<div>\n",
       "<style scoped>\n",
       "    .dataframe tbody tr th:only-of-type {\n",
       "        vertical-align: middle;\n",
       "    }\n",
       "\n",
       "    .dataframe tbody tr th {\n",
       "        vertical-align: top;\n",
       "    }\n",
       "\n",
       "    .dataframe thead th {\n",
       "        text-align: right;\n",
       "    }\n",
       "</style>\n",
       "<table border=\"1\" class=\"dataframe\">\n",
       "  <thead>\n",
       "    <tr style=\"text-align: right;\">\n",
       "      <th></th>\n",
       "      <th>Label</th>\n",
       "      <th>Text</th>\n",
       "    </tr>\n",
       "  </thead>\n",
       "  <tbody>\n",
       "    <tr>\n",
       "      <th>0</th>\n",
       "      <td>1</td>\n",
       "      <td>are wtf ... awww thanks !</td>\n",
       "    </tr>\n",
       "    <tr>\n",
       "      <th>1</th>\n",
       "      <td>1</td>\n",
       "      <td>leavingg to wait for kaysie to arrive myspacin...</td>\n",
       "    </tr>\n",
       "    <tr>\n",
       "      <th>2</th>\n",
       "      <td>0</td>\n",
       "      <td>i wish i could go and see duffy when she comes...</td>\n",
       "    </tr>\n",
       "    <tr>\n",
       "      <th>3</th>\n",
       "      <td>1</td>\n",
       "      <td>i know eep ! i can ' t wait for one more day ....</td>\n",
       "    </tr>\n",
       "    <tr>\n",
       "      <th>4</th>\n",
       "      <td>0</td>\n",
       "      <td>so scared and feeling sick . fuck ! hope someo...</td>\n",
       "    </tr>\n",
       "  </tbody>\n",
       "</table>\n",
       "</div>"
      ],
      "text/plain": [
       "  Label                                               Text\n",
       "0     1                          are wtf ... awww thanks !\n",
       "1     1  leavingg to wait for kaysie to arrive myspacin...\n",
       "2     0  i wish i could go and see duffy when she comes...\n",
       "3     1  i know eep ! i can ' t wait for one more day ....\n",
       "4     0  so scared and feeling sick . fuck ! hope someo..."
      ]
     },
     "execution_count": 2,
     "metadata": {},
     "output_type": "execute_result"
    }
   ],
   "source": [
    "labeled_path = os.path.join(os.getcwd(), \"training_label.csv\")\n",
    "labeled_data = []\n",
    "\n",
    "with open(labeled_path, 'r') as labeled_file:\n",
    "    for line in labeled_file.readlines():\n",
    "        (label, text) = line.split(\"+++$+++\")\n",
    "        labeled_data.append([label.strip(), text.strip()])\n",
    "\n",
    "labeled_dataframe = pd.DataFrame(labeled_data, columns =['Label', 'Text']) \n",
    "labeled_dataframe.head()\n"
   ]
  },
  {
   "cell_type": "code",
   "execution_count": 3,
   "metadata": {},
   "outputs": [
    {
     "name": "stdout",
     "output_type": "stream",
     "text": [
      "1    90014\n",
      "0    89986\n",
      "Name: Label, dtype: int64\n",
      "1    10031\n",
      "0     9969\n",
      "Name: Label, dtype: int64\n"
     ]
    }
   ],
   "source": [
    "training_frame, validation_frame = train_test_split(labeled_dataframe, test_size=0.1, random_state=42)\n",
    "print(training_frame['Label'].value_counts())\n",
    "print(validation_frame['Label'].value_counts())\n"
   ]
  },
  {
   "cell_type": "code",
   "execution_count": null,
   "metadata": {},
   "outputs": [],
   "source": []
  }
 ],
 "metadata": {
  "kernelspec": {
   "display_name": "Python 3",
   "language": "python",
   "name": "python3"
  },
  "language_info": {
   "codemirror_mode": {
    "name": "ipython",
    "version": 3
   },
   "file_extension": ".py",
   "mimetype": "text/x-python",
   "name": "python",
   "nbconvert_exporter": "python",
   "pygments_lexer": "ipython3",
   "version": "3.5.2"
  }
 },
 "nbformat": 4,
 "nbformat_minor": 2
}
